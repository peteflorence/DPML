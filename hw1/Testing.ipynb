{
 "cells": [
  {
   "cell_type": "markdown",
   "metadata": {},
   "source": [
    "# Testing Environment for Homework 1"
   ]
  },
  {
   "cell_type": "code",
   "execution_count": 19,
   "metadata": {
    "collapsed": false
   },
   "outputs": [],
   "source": [
    "# Global setup\n",
    "import numpy as np\n",
    "import matplotlib.pyplot as plt\n",
    "% matplotlib inline"
   ]
  },
  {
   "cell_type": "markdown",
   "metadata": {},
   "source": [
    "## 1. Implement Gradient Descent"
   ]
  },
  {
   "cell_type": "code",
   "execution_count": 20,
   "metadata": {
    "collapsed": false
   },
   "outputs": [
    {
     "name": "stdout",
     "output_type": "stream",
     "text": [
      "------------------\n",
      "result using gradient convergence criterion\n",
      "x_min is \n",
      "[  4.92043122e-05   4.92043122e-05]\n",
      "f_min is \n",
      "4.84212866908e-09\n",
      "achieved tolerance\n",
      "9.84086243078e-05\n",
      "numFunctionCalls\n",
      "492\n",
      "(array([  4.92043122e-05,   4.92043122e-05]), 4.8421286690780673e-09, 492, 0.0001)\n"
     ]
    }
   ],
   "source": [
    "from gradient_descent import GradientDescent, quad, quadGrad\n",
    "\n",
    "gd = GradientDescent(quad, quadGrad)\n",
    "x = np.array([1.0, 1.0])\n",
    "\n",
    "print \"------------------\"\n",
    "print \"result using gradient convergence criterion\"\n",
    "print gd.computeMin(x, useGradientCriterion=True)"
   ]
  },
  {
   "cell_type": "markdown",
   "metadata": {},
   "source": [
    "##### Testing GradientDescent class\n",
    "\n",
    "Plot default function stored as instance variable"
   ]
  },
  {
   "cell_type": "code",
   "execution_count": 32,
   "metadata": {
    "collapsed": false
   },
   "outputs": [
    {
     "name": "stdout",
     "output_type": "stream",
     "text": [
      "<function quad at 0x10d72bcf8>\n",
      "<function quadGrad at 0x10d730140>\n",
      "4\n",
      "2\n",
      "(21,)\n",
      "(21,)\n",
      "Function in blue, derivative in red\n"
     ]
    },
    {
     "data": {
      "image/png": "[encoded data removed]",
      "text/plain": [
       "<matplotlib.figure.Figure at 0x111ed9a90>"
      ]
     },
     "metadata": {},
     "output_type": "display_data"
    }
   ],
   "source": [
    "gd = GradientDescent(quad, quadGrad)\n",
    "\n",
    "# Test functions are there\n",
    "print gd.f\n",
    "print gd.grad\n",
    "\n",
    "# Test values for functions\n",
    "print gd.f(2)\n",
    "print gd.grad(1)\n",
    "\n",
    "# Plot functions and overlay gradient\n",
    "xaxis = np.linspace(-10,10,21)\n",
    "yaxis_f = np.linspace(0,0,21)\n",
    "yaxis_grad = np.linspace(0,0,21)\n",
    "\n",
    "# Wish I could vectorize but this does not work\n",
    "# yaxis_f = gd.f(xaxis)\n",
    "# yaxis_grad = gd.grad(xaxis)\n",
    "\n",
    "for i in range(len(xaxis)):\n",
    "    yaxis_f[i] = gd.f(xaxis[i])\n",
    "    yaxis_grad[i] = gd.grad(xaxis[i])\n",
    "    \n",
    "print xaxis.shape\n",
    "print yaxis_f.shape\n",
    "\n",
    "print 'Function in blue, derivative in red'\n",
    "plt.plot(xaxis,yaxis_f, color ='blue')\n",
    "plt.plot(xaxis,yaxis_grad, color='red')\n",
    "plt.show()\n"
   ]
  },
  {
   "cell_type": "code",
   "execution_count": null,
   "metadata": {
    "collapsed": true
   },
   "outputs": [],
   "source": []
  },
  {
   "cell_type": "markdown",
   "metadata": {},
   "source": [
    "## 2. Linear Basis Function Regression"
   ]
  },
  {
   "cell_type": "code",
   "execution_count": 6,
   "metadata": {
    "collapsed": false
   },
   "outputs": [
    {
     "name": "stdout",
     "output_type": "stream",
     "text": [
      "linear regression \n",
      "[  0.32051671   9.20845415 -39.77927963  42.7124631  -12.37204112]\n",
      "ridge regression is\n",
      "[  0.32051671   9.20845415 -39.77927963  42.7124631  -12.37204112]\n",
      "   status: 0\n",
      "  success: True\n",
      "     njev: 48\n",
      "     nfev: 336\n",
      " hess_inv: array([[  4.53832888e+00,  -4.90018338e+01,   1.59988137e+02,\n",
      "         -2.01779631e+02,   8.64530579e+01],\n",
      "       [ -4.90018338e+01,   1.13496113e+03,  -4.80900067e+03,\n",
      "          6.94464207e+03,  -3.23274367e+03],\n",
      "       [  1.59988137e+02,  -4.80900067e+03,   2.22743828e+04,\n",
      "         -3.38175536e+04,   1.62638988e+04],\n",
      "       [ -2.01779631e+02,   6.94464207e+03,  -3.38175536e+04,\n",
      "          5.29505699e+04,  -2.60161132e+04],\n",
      "       [  8.64530579e+01,  -3.23274367e+03,   1.62638988e+04,\n",
      "         -2.60161132e+04,   1.29824545e+04]])\n",
      "      fun: 0.09176660056206241\n",
      "        x: array([  0.32051099,   9.20867387, -39.78020293,  42.71372408, -12.37259223])\n",
      "  message: 'Optimization terminated successfully.'\n",
      "      jac: array([  1.52364373e-06,  -2.00234354e-07,  -4.20026481e-07,\n",
      "        -2.51457095e-07,  -8.10250640e-08])\n",
      "lasso is\n",
      "[  0.32051099   9.20867387 -39.78020293  42.71372408 -12.37259223]\n"
     ]
    },
    {
     "ename": "NameError",
     "evalue": "global name 'x_train' is not defined",
     "output_type": "error",
     "traceback": [
      "\u001b[0;31m---------------------------------------------------------------------------\u001b[0m",
      "\u001b[0;31mNameError\u001b[0m                                 Traceback (most recent call last)",
      "\u001b[0;32m<ipython-input-6-70cee6a61d3a>\u001b[0m in \u001b[0;36m<module>\u001b[0;34m()\u001b[0m\n\u001b[1;32m     16\u001b[0m \u001b[0;32mprint\u001b[0m \u001b[0mw_lasso\u001b[0m\u001b[0;34m\u001b[0m\u001b[0m\n\u001b[1;32m     17\u001b[0m \u001b[0;34m\u001b[0m\u001b[0m\n\u001b[0;32m---> 18\u001b[0;31m \u001b[0;34m(\u001b[0m\u001b[0mlasso\u001b[0m\u001b[0;34m,\u001b[0m\u001b[0m_\u001b[0m\u001b[0;34m,\u001b[0m\u001b[0m_\u001b[0m\u001b[0;34m,\u001b[0m\u001b[0m_\u001b[0m\u001b[0;34m,\u001b[0m\u001b[0m_\u001b[0m\u001b[0;34m)\u001b[0m \u001b[0;34m=\u001b[0m \u001b[0mLinearRegression\u001b[0m\u001b[0;34m.\u001b[0m\u001b[0mfromLASSOData\u001b[0m\u001b[0;34m(\u001b[0m\u001b[0;34m)\u001b[0m\u001b[0;34m\u001b[0m\u001b[0m\n\u001b[0m",
      "\u001b[0;32m/Users/pflomacpro/Desktop/Classes/6.867/Machine-Learning-6.867-homework/hw1/linear_regression.py\u001b[0m in \u001b[0;36mfromLASSOData\u001b[0;34m()\u001b[0m\n\u001b[1;32m    105\u001b[0m         \u001b[0my_test\u001b[0m \u001b[0;34m=\u001b[0m \u001b[0mnp\u001b[0m\u001b[0;34m.\u001b[0m\u001b[0mreshape\u001b[0m\u001b[0;34m(\u001b[0m\u001b[0my_test\u001b[0m\u001b[0;34m,\u001b[0m\u001b[0;34m(\u001b[0m\u001b[0mnp\u001b[0m\u001b[0;34m.\u001b[0m\u001b[0msize\u001b[0m\u001b[0;34m(\u001b[0m\u001b[0my_test\u001b[0m\u001b[0;34m)\u001b[0m\u001b[0;34m,\u001b[0m\u001b[0;34m)\u001b[0m\u001b[0;34m)\u001b[0m\u001b[0;34m\u001b[0m\u001b[0m\n\u001b[1;32m    106\u001b[0m \u001b[0;34m\u001b[0m\u001b[0m\n\u001b[0;32m--> 107\u001b[0;31m         \u001b[0mlasso\u001b[0m \u001b[0;34m=\u001b[0m \u001b[0mLinearRegression\u001b[0m\u001b[0;34m(\u001b[0m\u001b[0mx_train\u001b[0m\u001b[0;34m,\u001b[0m\u001b[0my_train\u001b[0m\u001b[0;34m,\u001b[0m\u001b[0;36m1\u001b[0m\u001b[0;34m,\u001b[0m\u001b[0mphi\u001b[0m\u001b[0;34m=\u001b[0m\u001b[0mphi_train\u001b[0m\u001b[0;34m)\u001b[0m\u001b[0;34m\u001b[0m\u001b[0m\n\u001b[0m\u001b[1;32m    108\u001b[0m         \u001b[0;32mreturn\u001b[0m \u001b[0;34m(\u001b[0m\u001b[0mlasso\u001b[0m\u001b[0;34m,\u001b[0m \u001b[0mphi_train\u001b[0m\u001b[0;34m,\u001b[0m \u001b[0my_train\u001b[0m\u001b[0;34m,\u001b[0m \u001b[0mphi_test\u001b[0m\u001b[0;34m,\u001b[0m \u001b[0my_test\u001b[0m\u001b[0;34m)\u001b[0m\u001b[0;34m\u001b[0m\u001b[0m\n\u001b[1;32m    109\u001b[0m \u001b[0;34m\u001b[0m\u001b[0m\n",
      "\u001b[0;31mNameError\u001b[0m: global name 'x_train' is not defined"
     ]
    }
   ],
   "source": [
    "from linear_regression import getData, LinearRegression\n",
    "\n",
    "filename = \"curvefitting.txt\"\n",
    "lr = LinearRegression.fromFile(filename,4)\n",
    "w = lr.reg()\n",
    "print \"linear regression \"\n",
    "print w\n",
    "\n",
    "lam = 0\n",
    "w_ridge = lr.ridge(lam)\n",
    "print \"ridge regression is\"\n",
    "print w_ridge\n",
    "\n",
    "w_lasso = lr.Lasso(lam)\n",
    "print \"lasso is\"\n",
    "print w_lasso\n",
    "\n",
    "(lasso,_,_,_,_) = LinearRegression.fromLASSOData()"
   ]
  },
  {
   "cell_type": "code",
   "execution_count": null,
   "metadata": {
    "collapsed": true
   },
   "outputs": [],
   "source": []
  }
 ],
 "metadata": {
  "kernelspec": {
   "display_name": "Python 2",
   "language": "python",
   "name": "python2"
  },
  "language_info": {
   "codemirror_mode": {
    "name": "ipython",
    "version": 2
   },
   "file_extension": ".py",
   "mimetype": "text/x-python",
   "name": "python",
   "nbconvert_exporter": "python",
   "pygments_lexer": "ipython2",
   "version": "2.7.10"
  }
 },
 "nbformat": 4,
 "nbformat_minor": 0
}
