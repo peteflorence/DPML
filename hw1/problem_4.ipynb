{
 "cells": [
  {
   "cell_type": "code",
   "execution_count": 8,
   "metadata": {
    "collapsed": true
   },
   "outputs": [],
   "source": [
    "import numpy as np\n",
    "import matplotlib.pyplot as plt\n",
    "import scipy.optimize as opt\n",
    "import os\n",
    "from linear_regression import LinearRegression\n",
    "from gradient_descent import GradientDescent, quad, quadGrad\n",
    "%matplotlib inline"
   ]
  },
  {
   "cell_type": "markdown",
   "metadata": {},
   "source": [
    "##4.1"
   ]
  },
  {
   "cell_type": "code",
   "execution_count": 9,
   "metadata": {
    "collapsed": false
   },
   "outputs": [
    {
     "name": "stdout",
     "output_type": "stream",
     "text": [
      " \n",
      "-------------\n",
      "M = 0\n",
      "argmin lambda = 10.0\n",
      "SAE_train = 17.385913691\n",
      "SAE_val = 12.9005614711\n",
      "SAE_test = 17.9849418108\n",
      "----------------\n",
      " \n",
      " \n",
      "-------------\n",
      "M = 1\n",
      "argmin lambda = 0.854271356784\n",
      "SAE_train = 6.33407649931\n",
      "SAE_val = 2.04479219018\n",
      "SAE_test = 2.84721155285\n",
      "----------------\n",
      " \n",
      " \n",
      "-------------\n",
      "M = 2\n",
      "argmin lambda = 1.10552763819\n",
      "SAE_train = 6.532373676\n",
      "SAE_val = 2.08069212959\n",
      "SAE_test = 3.15848899688\n",
      "----------------\n",
      " \n",
      " \n",
      "-------------\n",
      "M = 3\n",
      "argmin lambda = 1.85929648241\n",
      "SAE_train = 6.34568907842\n",
      "SAE_val = 4.50212526883\n",
      "SAE_test = 8.58288844936\n",
      "----------------\n",
      " \n",
      " \n",
      "-------------\n",
      "M = 4\n",
      "argmin lambda = 3.56783919598\n",
      "SAE_train = 8.4774512839\n",
      "SAE_val = 3.56899778885\n",
      "SAE_test = 5.23744651349\n",
      "----------------\n",
      " \n",
      " \n",
      "-------------\n",
      "M = 5\n",
      "argmin lambda = 8.09045226131\n",
      "SAE_train = 9.16903771822\n",
      "SAE_val = 3.43591216046\n",
      "SAE_test = 9.77045593134\n",
      "----------------\n",
      " \n"
     ]
    }
   ],
   "source": [
    "def plot(lr,w, plot_sin=True, plot_test=True, plot_validate=True):\n",
    "    # plot sin(2*phi*x) in green\n",
    "    x_min = np.amin(lr.x)\n",
    "    x_max = np.amax(lr.x)\n",
    "    x = np.linspace(-3,3,1000)\n",
    "    M = lr.numFeatures - 1\n",
    "    \n",
    "    lr_temp = LinearRegression(x,x,lr.numFeatures-1)\n",
    "    reg_prediction = np.dot(lr_temp.phi,w)\n",
    "    \n",
    "    lr_validate = LinearRegression.fromFile(validate_filename, M)\n",
    "    lr_test = LinearRegression.fromFile(test_filename, M)\n",
    "    \n",
    "    plt.plot(x, reg_prediction, color='r')\n",
    "    \n",
    "    # the training set is plotted in blue\n",
    "    plt.scatter(lr.x, lr.y, color='r', marker='o',facecolors='none')\n",
    "    \n",
    "    # test set plotted in green\n",
    "    if plot_test:\n",
    "        plt.scatter(lr_test.x, lr_test.y, color='g', marker='o',facecolors='none')\n",
    "        \n",
    "    # validation set plotted in orange\n",
    "    if plot_test:\n",
    "        plt.scatter(lr_validate.x, lr_validate.y, color='b', marker='o',facecolors='none')\n",
    "              \n",
    "    plt.xlabel('x')\n",
    "    plt.ylabel('y')\n",
    "    plt.show()\n",
    "\n",
    "def gradDescentSAE(lr, verbose=False):\n",
    "    w_initial = 1.0*lr.reg()\n",
    "    \n",
    "    res = opt.minimize(lr.SAEwReg, w_initial)\n",
    "    \n",
    "    if verbose:\n",
    "        print \" \"\n",
    "        print \"--- Scipy Minimization Summary --- \"\n",
    "        print \"x_min is = \" + str(res.x)\n",
    "        print \"f_min is = \" + str(res.fun)\n",
    "        print \"numFunctionCalls = \" + str(res.nfev)\n",
    "    #     print \"numIterations = \" + str(res.nit)\n",
    "        print \"---------------------------- \"\n",
    "        print \" \"\n",
    "        plot(lr,res.x)\n",
    "    \n",
    "    return (lr, res.x)\n",
    "\n",
    "\n",
    "def computeLAD(M, lam, train, test, validate, verbose=True):\n",
    "    lr_train = LinearRegression.fromFile(train, M)\n",
    "    lr_validate = LinearRegression.fromFile(validate, M)\n",
    "    lr_test = LinearRegression.fromFile(test, M)\n",
    "    \n",
    "    lr_train.lam = lam\n",
    "    lr_validate.lam = lam\n",
    "    lr_test.lam = lam\n",
    "    \n",
    "    if verbose:\n",
    "        (_,w_LAD) = gradDescentSAE(lr_train, verbose=True)\n",
    "    else:\n",
    "        (_,w_LAD) = gradDescentSAE(lr_train)\n",
    "    \n",
    "    sae_train = lr_train.SAE(w_LAD)\n",
    "    sae_test = lr_test.SAE(w_LAD)\n",
    "    sae_validate = lr_validate.SAE(w_LAD)\n",
    "    \n",
    "    # For SSE comparison\n",
    "    sse_train = lr_train.SSE(w_LAD)\n",
    "    sse_test = lr_test.SSE(w_LAD)\n",
    "    sse_validate = lr_validate.SSE(w_LAD)\n",
    "    \n",
    "    if verbose:\n",
    "        print \"--LAD Statistics--\"\n",
    "        print \"M = \" + str(M)\n",
    "        print \"w_LAD = \" + str(w_LAD)\n",
    "        print \"SAE_train = \" + str(sae_train)\n",
    "        print \"SAE_validate = \" + str(sae_validate)\n",
    "        print \"SAE_test = \" + str(sae_test)\n",
    "        print \"\"\n",
    "        print \"SSE_train = \" + str(sse_train)\n",
    "        print \"SSE_validate = \" + str(sse_validate)\n",
    "        print \"SSE_test = \" + str(sse_test)\n",
    "\n",
    "    \n",
    "    return (sae_validate, sae_test, sae_train)\n",
    "\n",
    "\n",
    "def modelSelection(M, showPlot=False):\n",
    "    sseVal = lambda x: computeLAD(M, x, train_filename, test_filename, validate_filename, verbose=False)[0]\n",
    "    sseTest = lambda x: computeLAD(M, x, train_filename, test_filename, validate_filename, verbose=False)[1]\n",
    "    sseTrain = lambda x: computeLAD(M, x, train_filename, test_filename, validate_filename, verbose=False)[2]\n",
    "    \n",
    "    sseVal_vec = np.vectorize(sseVal)\n",
    "    sseTest_vec = np.vectorize(sseTest)\n",
    "    sseTrain_vec = np.vectorize(sseTrain)\n",
    "    \n",
    "    lam_vec = np.linspace(0,10,200)\n",
    "    a = sseVal_vec(lam_vec)\n",
    "    b = sseTest_vec(lam_vec)\n",
    "    c = sseTrain_vec(lam_vec)\n",
    "    \n",
    "    lam_min_idx = np.argmin(a)\n",
    "    lam_min = lam_vec[lam_min_idx]\n",
    "    \n",
    "    lr_train = LinearRegression.fromFile(train_filename, M)\n",
    "    (_,w_LAD) = gradDescentSAE(lr_train)\n",
    "    w_LAD = lr_train.ridge(lam_min) # NEED TO BE ABLE TO SPECIFY LAMBDA\n",
    "    \n",
    "\n",
    "    if showPlot:\n",
    "#         plt.plot(lam_vec, a, color='b')\n",
    "#         plt.plot(lam_vec, b, color='g')\n",
    "        plot(lr_train, w_LAD, plot_sin=False, plot_test=True, plot_validate=True)\n",
    "        plt.show()\n",
    "        \n",
    "    print \" \"\n",
    "    print \"-------------\"\n",
    "    print \"M = \" + str(M)\n",
    "    print \"argmin lambda = \" + str(lam_min)\n",
    "    print \"SAE_train = \" + str(c[lam_min_idx])\n",
    "    print \"SAE_val = \" + str(a[lam_min_idx])\n",
    "    print \"SAE_test = \" + str(b[lam_min_idx])\n",
    "    print \"----------------\"\n",
    "    print \" \"\n",
    "\n",
    "\n",
    "filename = 'regress_train.txt'\n",
    "M = 1\n",
    "\n",
    "test_filename = \"regress_test.txt\"\n",
    "train_filename = \"regress_train.txt\"\n",
    "validate_filename = \"regress_validate.txt\"\n",
    "\n",
    "\n",
    "# # Example of just calling gradDescentSAE directly after calling an lr object\n",
    "# lr = LinearRegression.fromFile(filename, M=1)\n",
    "# lr.lam = 100\n",
    "# (lr, w) = gradDescentSAE(lr, verbose=True)\n",
    "\n",
    "# # Example of calling computeLAD (which in turn calls gradDescentSAE)\n",
    "# M = 3\n",
    "# lam = 0.000001\n",
    "# computeLAD(M, lam, train_filename, test_filename, validate_filename, verbose=True)\n",
    "\n",
    "\n",
    "for m in range(0,6):\n",
    "    modelSelection(m, showPlot=False)"
   ]
  },
  {
   "cell_type": "markdown",
   "metadata": {},
   "source": [
    "### Plot minimum for each M"
   ]
  },
  {
   "cell_type": "code",
   "execution_count": 10,
   "metadata": {
    "collapsed": false
   },
   "outputs": [
    {
     "name": "stdout",
     "output_type": "stream",
     "text": [
      " \n",
      "--- Scipy Minimization Summary --- \n",
      "x_min is = [ 0.29999999]\n",
      "f_min is = 18.2859136078\n",
      "numFunctionCalls = 15\n",
      "---------------------------- \n",
      " \n"
     ]
    },
    {
     "data": {
      "image/png": "[encoded data removed]",
      "text/plain": [
       "<matplotlib.figure.Figure at 0x11b9a0b10>"
      ]
     },
     "metadata": {},
     "output_type": "display_data"
    },
    {
     "name": "stdout",
     "output_type": "stream",
     "text": [
      "--LAD Statistics--\n",
      "M = 0\n",
      "w_LAD = [ 0.29999999]\n",
      "SAE_train = 17.385913691\n",
      "SAE_validate = 12.9005614711\n",
      "SAE_test = 17.9849418108\n",
      "\n",
      "SSE_train = 34.4929787097\n",
      "SSE_validate = 22.4889491426\n",
      "SSE_test = 34.6321478492\n",
      " \n",
      "--- Scipy Minimization Summary --- \n",
      "x_min is = [ 1.10280368  0.84883244]\n",
      "f_min is = 6.29138628172\n",
      "numFunctionCalls = 200\n",
      "---------------------------- \n",
      " \n"
     ]
    },
    {
     "data": {
      "image/png": "[encoded data removed]",
      "text/plain": [
       "<matplotlib.figure.Figure at 0x119894ed0>"
      ]
     },
     "metadata": {},
     "output_type": "display_data"
    },
    {
     "name": "stdout",
     "output_type": "stream",
     "text": [
      "--LAD Statistics--\n",
      "M = 1\n",
      "w_LAD = [ 1.10280368  0.84883244]\n",
      "SAE_train = 6.29138628172\n",
      "SAE_validate = 3.13794139109\n",
      "SAE_test = 3.70944731458\n",
      "\n",
      "SSE_train = 21.38783522\n",
      "SSE_validate = 1.37695593497\n",
      "SSE_test = 1.93706261611\n",
      " \n",
      "--- Scipy Minimization Summary --- \n",
      "x_min is = [ 1.03583513  0.83556831  0.00845789]\n",
      "f_min is = 6.59182150835\n",
      "numFunctionCalls = 245\n",
      "---------------------------- \n",
      " \n"
     ]
    },
    {
     "data": {
      "image/png": "[encoded data removed]",
      "text/plain": [
       "<matplotlib.figure.Figure at 0x1198887d0>"
      ]
     },
     "metadata": {},
     "output_type": "display_data"
    },
    {
     "name": "stdout",
     "output_type": "stream",
     "text": [
      "--LAD Statistics--\n",
      "M = 2\n",
      "w_LAD = [ 1.03583513  0.83556831  0.00845789]\n",
      "SAE_train = 6.50281646526\n",
      "SAE_validate = 3.1046561883\n",
      "SAE_test = 4.01369987983\n",
      "\n",
      "SSE_train = 21.2261899176\n",
      "SSE_validate = 1.36301999887\n",
      "SSE_test = 2.20507366148\n",
      " \n",
      "--- Scipy Minimization Summary --- \n",
      "x_min is = [ 0.35131414  0.42281385  0.22128646  0.12578759]\n",
      "f_min is = 12.811889833\n",
      "numFunctionCalls = 347\n",
      "---------------------------- \n",
      " \n"
     ]
    },
    {
     "data": {
      "image/png": "[encoded data removed]",
      "text/plain": [
       "<matplotlib.figure.Figure at 0x11be86fd0>"
      ]
     },
     "metadata": {},
     "output_type": "display_data"
    },
    {
     "name": "stdout",
     "output_type": "stream",
     "text": [
      "--LAD Statistics--\n",
      "M = 3\n",
      "w_LAD = [ 0.35131414  0.42281385  0.22128646  0.12578759]\n",
      "SAE_train = 10.5804832744\n",
      "SAE_validate = 4.58722472504\n",
      "SAE_test = 6.90354728646\n",
      "\n",
      "SSE_train = 29.3528427166\n",
      "SSE_validate = 3.40311308007\n",
      "SSE_test = 6.12106682901\n",
      " \n",
      "--- Scipy Minimization Summary --- \n",
      "x_min is = [ 0.54866803  0.70544438  0.21935458  0.04752867 -0.01500857]\n",
      "f_min is = 11.5075778798\n",
      "numFunctionCalls = 431\n",
      "---------------------------- \n",
      " \n"
     ]
    },
    {
     "data": {
      "image/png": "[encoded data removed]",
      "text/plain": [
       "<matplotlib.figure.Figure at 0x11bf81f10>"
      ]
     },
     "metadata": {},
     "output_type": "display_data"
    },
    {
     "name": "stdout",
     "output_type": "stream",
     "text": [
      "--LAD Statistics--\n",
      "M = 4\n",
      "w_LAD = [ 0.54866803  0.70544438  0.21935458  0.04752867 -0.01500857]\n",
      "SAE_train = 8.4774511214\n",
      "SAE_validate = 3.56901559091\n",
      "SAE_test = 5.23745425601\n",
      "\n",
      "SSE_train = 24.9875844462\n",
      "SSE_validate = 1.8305418426\n",
      "SSE_test = 3.375536104\n",
      " \n",
      "--- Scipy Minimization Summary --- \n",
      "x_min is = [ 0.2297904   0.32568943  0.13114877  0.376926    0.010206   -0.05182575]\n",
      "f_min is = 12.9959469816\n",
      "numFunctionCalls = 428\n",
      "---------------------------- \n",
      " \n"
     ]
    },
    {
     "data": {
      "image/png": "[encoded data removed]",
      "text/plain": [
       "<matplotlib.figure.Figure at 0x11c0ea350>"
      ]
     },
     "metadata": {},
     "output_type": "display_data"
    },
    {
     "name": "stdout",
     "output_type": "stream",
     "text": [
      "--LAD Statistics--\n",
      "M = 5\n",
      "w_LAD = [ 0.2297904   0.32568943  0.13114877  0.376926    0.010206   -0.05182575]\n",
      "SAE_train = 10.1897334405\n",
      "SAE_validate = 4.17877285894\n",
      "SAE_test = 10.5398773553\n",
      "\n",
      "SSE_train = 17.7152763441\n",
      "SSE_validate = 3.5254628607\n",
      "SSE_test = 17.4789271722\n"
     ]
    },
    {
     "data": {
      "text/plain": [
       "(4.178772858941886, 10.539877355311685, 10.189733440521147)"
      ]
     },
     "execution_count": 10,
     "metadata": {},
     "output_type": "execute_result"
    }
   ],
   "source": [
    "M = 0\n",
    "lam = 10.0\n",
    "computeLAD(M, lam, train_filename, test_filename, validate_filename, verbose=True)\n",
    "\n",
    "M = 1\n",
    "lam = 0.0\n",
    "computeLAD(M, lam, train_filename, test_filename, validate_filename, verbose=True)\n",
    "\n",
    "M = 2\n",
    "lam = 0.0502512562814\n",
    "computeLAD(M, lam, train_filename, test_filename, validate_filename, verbose=True)\n",
    "\n",
    "M = 3\n",
    "lam = 6.08040201005\n",
    "computeLAD(M, lam, train_filename, test_filename, validate_filename, verbose=True)\n",
    "\n",
    "M = 4\n",
    "lam = 3.56783919598\n",
    "computeLAD(M, lam, train_filename, test_filename, validate_filename, verbose=True)\n",
    "\n",
    "M = 5\n",
    "lam = 8.74371859296\n",
    "computeLAD(M, lam, train_filename, test_filename, validate_filename, verbose=True)"
   ]
  },
  {
   "cell_type": "markdown",
   "metadata": {
    "collapsed": false
   },
   "source": [
    "## 4.2"
   ]
  },
  {
   "cell_type": "code",
   "execution_count": null,
   "metadata": {
    "collapsed": false
   },
   "outputs": [],
   "source": [
    "(lasso,_,_,_,_) = LinearRegression.fromLASSOData()\n",
    "np.shape(lasso.phi)\n",
    "\n",
    "\n",
    "w_reg = lasso.reg()\n",
    "print w_reg\n",
    "\n",
    "w = lasso.Lasso(0, w_0=w_reg)\n",
    "print w\n"
   ]
  },
  {
   "cell_type": "code",
   "execution_count": null,
   "metadata": {
    "collapsed": true
   },
   "outputs": [],
   "source": []
  }
 ],
 "metadata": {
  "kernelspec": {
   "display_name": "Python 2",
   "language": "python",
   "name": "python2"
  },
  "language_info": {
   "codemirror_mode": {
    "name": "ipython",
    "version": 2
   },
   "file_extension": ".py",
   "mimetype": "text/x-python",
   "name": "python",
   "nbconvert_exporter": "python",
   "pygments_lexer": "ipython2",
   "version": "2.7.10"
  }
 },
 "nbformat": 4,
 "nbformat_minor": 0
}
