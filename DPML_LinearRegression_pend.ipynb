{
 "cells": [
  {
   "cell_type": "code",
   "execution_count": 51,
   "metadata": {
    "collapsed": false
   },
   "outputs": [
    {
     "name": "stdout",
     "output_type": "stream",
     "text": [
      "The autoreload extension is already loaded. To reload it, use:\n",
      "  %reload_ext autoreload\n"
     ]
    }
   ],
   "source": [
    "import sys\n",
    "sys.path.append('./hw1/')\n",
    "\n",
    "%load_ext autoreload\n",
    "%autoreload 2\n",
    "\n",
    "import numpy as np\n",
    "import matplotlib.pyplot as plt\n",
    "import scipy.optimize as opt\n",
    "from linear_regression import LinearRegression\n",
    "from gradient_descent import GradientDescent, quad, quadGrad\n",
    "%matplotlib inline"
   ]
  },
  {
   "cell_type": "code",
   "execution_count": 56,
   "metadata": {
    "collapsed": false
   },
   "outputs": [
    {
     "name": "stdout",
     "output_type": "stream",
     "text": [
      "(10201, 2) is the shape of x coming in\n",
      "(10201,) is the shape of y coming in\n",
      "(20402,) is the shape of self.x i save\n",
      "(10201,) is the shape of self.y i save\n",
      "2\n",
      "(10201, 2) but self.phi is this shape\n",
      "(10201, 2) is self.phi before\n",
      "(10201, 14) is self.phi after\n",
      "(10201, 14) self.phi actually\n",
      "regression weights for linear features = \n",
      "[ -7.70100188e+00  -2.13426786e+01  -7.14253132e-01   3.39820322e+00\n",
      "   1.96291311e-01   2.27353787e-01  -1.99687134e+01  -3.57481798e-01\n",
      "  -1.86965223e-03  -2.41195952e-14   1.38669732e+02  -6.67895173e+01\n",
      "   1.41904393e+02  -6.63204142e+01]\n"
     ]
    },
    {
     "data": {
      "image/png": "[encoded data removed]",
      "text/plain": [
       "<matplotlib.figure.Figure at 0x7f88aece3a10>"
      ]
     },
     "metadata": {},
     "output_type": "display_data"
    }
   ],
   "source": [
    "filename = 'training_set.csv'\n",
    "lr = LinearRegression.DPML_pendfromFile(filename)\n",
    "lr.setTrigBases()\n",
    "\n",
    "w = lr.reg()\n",
    "print \"regression weights for linear features = \"\n",
    "print w\n",
    "plt.plot(w)\n",
    "plt.show()"
   ]
  },
  {
   "cell_type": "markdown",
   "metadata": {},
   "source": [
    "| Basis function   |      Weight from LS fit      | \n",
    "|----------|:-------------:|\n",
    "| 1 (bias) |  -7.7 |\n",
    "| $\\theta$ |  -21.3     |\n",
    "| $\\dot{\\theta}$ | -.07 |\n",
    "| $\\theta^2$ | 3.39 |\n",
    "| $\\dot{\\theta}^2$ | 0.20 |\n",
    "| $\\theta \\dot{\\theta}$ | 0.22 |\n",
    "| $\\cos(\\theta)$ | -19.96 |\n",
    "| $\\cos(\\dot{\\theta})$ | -0.35 |\n",
    "| $\\sin(\\theta)$ | -0.001 |\n",
    "| $\\sin(\\dot{\\theta})$ | -2.41e-14 |\n",
    "| $\\cos^2(\\theta)$ | 138.67 |\n",
    "| $\\cos^2(\\dot{\\theta})$ | -66.79 |\n",
    "| $\\sin^2(\\theta)$ | 141.90 |\n",
    "| $\\sin^2(\\dot{\\theta})$ | -66.32 |\n"
   ]
  },
  {
   "cell_type": "code",
   "execution_count": 57,
   "metadata": {
    "collapsed": false
   },
   "outputs": [
    {
     "name": "stdout",
     "output_type": "stream",
     "text": [
      "-7.70100188085\n",
      "-21.3426786021\n",
      "-0.714253131731\n",
      "3.39820321795\n",
      "0.196291311117\n",
      "0.227353787219\n",
      "-19.9687134244\n",
      "-0.357481798349\n",
      "-0.00186965223264\n",
      "-2.411959521e-14\n",
      "138.669732363\n",
      "-66.7895172515\n",
      "141.904392961\n",
      "-66.3204141718\n"
     ]
    }
   ],
   "source": [
    "for i in w:\n",
    "    print i"
   ]
  },
  {
   "cell_type": "code",
   "execution_count": null,
   "metadata": {
    "collapsed": true
   },
   "outputs": [],
   "source": []
  }
 ],
 "metadata": {
  "kernelspec": {
   "display_name": "Python 2",
   "language": "python",
   "name": "python2"
  },
  "language_info": {
   "codemirror_mode": {
    "name": "ipython",
    "version": 2
   },
   "file_extension": ".py",
   "mimetype": "text/x-python",
   "name": "python",
   "nbconvert_exporter": "python",
   "pygments_lexer": "ipython2",
   "version": "2.7.6"
  }
 },
 "nbformat": 4,
 "nbformat_minor": 0
}
