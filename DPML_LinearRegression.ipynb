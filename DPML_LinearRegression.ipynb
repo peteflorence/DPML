{
 "cells": [
  {
   "cell_type": "code",
   "execution_count": 31,
   "metadata": {
    "collapsed": false
   },
   "outputs": [
    {
     "name": "stdout",
     "output_type": "stream",
     "text": [
      "The autoreload extension is already loaded. To reload it, use:\n",
      "  %reload_ext autoreload\n"
     ]
    }
   ],
   "source": [
    "import sys\n",
    "sys.path.append('./hw1/')\n",
    "\n",
    "%load_ext autoreload\n",
    "%autoreload 2\n",
    "\n",
    "import numpy as np\n",
    "import matplotlib.pyplot as plt\n",
    "import scipy.optimize as opt\n",
    "from linear_regression import LinearRegression\n",
    "from gradient_descent import GradientDescent, quad, quadGrad\n",
    "%matplotlib inline"
   ]
  },
  {
   "cell_type": "code",
   "execution_count": 35,
   "metadata": {
    "collapsed": false
   },
   "outputs": [
    {
     "name": "stdout",
     "output_type": "stream",
     "text": [
      "2\n",
      "[[ 5.     5.     5.    ...,  5.     5.     5.   ]\n",
      " [ 5.     5.     5.    ...,  5.     5.     5.   ]\n",
      " [ 5.     5.     5.    ...,  2.725  5.     5.   ]\n",
      " ..., \n",
      " [ 5.     5.     5.    ...,  5.     5.     5.   ]\n",
      " [ 5.     5.     5.    ...,  5.     5.     5.   ]\n",
      " [ 5.     5.     5.    ...,  5.     5.     5.   ]]\n",
      "(330000, 9)\n",
      "[ 5.  5.  5. ...,  5.  5.  5.]\n",
      "(2924262,)\n"
     ]
    }
   ],
   "source": [
    "def calcLinReg(lr):\n",
    "    w = lr.reg()\n",
    "    print \"regression weights for linear features = \"\n",
    "    print w\n",
    "    plt.plot(w)\n",
    "    plt.show()\n",
    "    \n",
    "    lr.inverseFeatures()\n",
    "    w = lr.reg()\n",
    "    print \"regression weights for inverse features = \"\n",
    "    print w\n",
    "    plt.plot(w)\n",
    "    plt.show()\n",
    "    \n",
    "    lr.inverseSquaredFeatures()\n",
    "    w = lr.reg()\n",
    "    print \"regression weights for inverse squaredfeatures = \"\n",
    "    print w\n",
    "    plt.plot(w)\n",
    "    plt.show()\n",
    "    \n",
    "filename = 'sampleML_less_aggressive.csv'\n",
    "lr = LinearRegression.DPMLfromFile(filename)\n",
    "print lr.phi\n",
    "print np.shape(lr.phi)\n",
    "lr.purgeOfCollisions()\n",
    "print lr.phi\n",
    "print np.shape(lr.phi)\n",
    "#calcLinReg(lr)\n",
    "\n",
    "# for i, rowvalue in enumerate(lr.phi):\n",
    "#     for j, value in enumerate(rowvalue):\n",
    "#         if (lr.phi[i,j] == 0):\n",
    "#             print \"found a zero at \", i, j \n",
    "\n"
   ]
  },
  {
   "cell_type": "code",
   "execution_count": null,
   "metadata": {
    "collapsed": true
   },
   "outputs": [],
   "source": []
  }
 ],
 "metadata": {
  "kernelspec": {
   "display_name": "Python 2",
   "language": "python",
   "name": "python2"
  },
  "language_info": {
   "codemirror_mode": {
    "name": "ipython",
    "version": 2
   },
   "file_extension": ".py",
   "mimetype": "text/x-python",
   "name": "python",
   "nbconvert_exporter": "python",
   "pygments_lexer": "ipython2",
   "version": "2.7.10"
  }
 },
 "nbformat": 4,
 "nbformat_minor": 0
}
